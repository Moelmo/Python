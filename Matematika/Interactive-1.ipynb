{
 "cells": [
  {
   "cell_type": "markdown",
   "metadata": {},
   "source": [
    "Connected to Python 3.12.4"
   ]
  },
  {
   "cell_type": "code",
   "execution_count": null,
   "id": "f2abc1b0-3fc9-427b-a954-bc4c19d934d6",
   "metadata": {},
   "outputs": [
    {
     "name": "stdout",
     "output_type": "stream",
     "text": [
      "==========================\n",
      "Kalkulator Sederhana\n",
      "==========================\n",
      "\n",
      "tes\n"
     ]
    }
   ],
   "source": [
    "# kalkulator tambah kurang kali bagi sederhana\n",
    "\n",
    "print(\"==========================\")\n",
    "print(\"Kalkulator Sederhana\")\n",
    "print(\"==========================\\n\")\n",
    "print(\"tes\")"
   ]
  }
 ],
 "metadata": {
  "kernelspec": {
   "display_name": "Python 3",
   "language": "python",
   "name": "python3"
  },
  "language_info": {
   "name": "python",
   "version": "3.12.4"
  }
 },
 "nbformat": 4,
 "nbformat_minor": 5
}
